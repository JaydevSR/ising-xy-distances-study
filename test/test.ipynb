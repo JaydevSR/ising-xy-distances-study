{
 "cells": [
  {
   "cell_type": "markdown",
   "metadata": {},
   "source": [
    "# Ising Model"
   ]
  },
  {
   "cell_type": "code",
   "execution_count": null,
   "metadata": {},
   "outputs": [],
   "source": [
    "using Pkg\n",
    "Pkg.activate(\"../\")"
   ]
  },
  {
   "cell_type": "code",
   "execution_count": null,
   "metadata": {},
   "outputs": [],
   "source": [
    "using Plots\n",
    "using FLoops"
   ]
  },
  {
   "cell_type": "code",
   "execution_count": 64,
   "metadata": {},
   "outputs": [],
   "source": [
    "include(\"../src/spinmc.jl\");"
   ]
  },
  {
   "cell_type": "code",
   "execution_count": null,
   "metadata": {},
   "outputs": [],
   "source": [
    "@time temps, mags = let L = 16\n",
    "    temps = collect(0.5:0.1:3.5)\n",
    "    mags = zeros(Float64, length(temps))\n",
    "    nsteps = 1000\n",
    "    Threads.@threads for t_idx in eachindex(temps)\n",
    "        m = 0\n",
    "        model = ClassicalIsingModel2D(L, :cold)\n",
    "        stack = LazyStack(CartesianIndex{2})\n",
    "        cluster = falses(L, L)\n",
    "        T = temps[t_idx]\n",
    "        P_add = isingwolff_Padd(T)\n",
    "        for i=1:nsteps\n",
    "            wolff_update!(model, T, cluster, stack; P_add=P_add)\n",
    "            m += magnetization(model)\n",
    "        end\n",
    "        mags[t_idx] = m / (nsteps*model.L^2) \n",
    "    end\n",
    "    temps, mags\n",
    "end"
   ]
  },
  {
   "cell_type": "code",
   "execution_count": null,
   "metadata": {},
   "outputs": [],
   "source": [
    "scatter(temps, mags, xlabel=\"Temperature\", ylabel=\"Magnetization\", title=\"Ising Model\")"
   ]
  },
  {
   "cell_type": "code",
   "execution_count": null,
   "metadata": {},
   "outputs": [],
   "source": [
    "cls = falses(10, 10)\n",
    "mm = ClassicalIsingModel2D(10, :cold)\n",
    "wolff_update!(mm, 0.1, cls)"
   ]
  },
  {
   "cell_type": "code",
   "execution_count": null,
   "metadata": {},
   "outputs": [],
   "source": [
    "using BenchmarkTools"
   ]
  },
  {
   "cell_type": "code",
   "execution_count": null,
   "metadata": {},
   "outputs": [],
   "source": [
    "ff = falses(10, 10)\n",
    "\n",
    "function make_false!(m::BitMatrix)\n",
    "    m .= false\n",
    "end\n",
    "\n",
    "@btime ff .= true\n",
    "@btime for i=1:100\n",
    "    make_false!(ff)\n",
    "end"
   ]
  },
  {
   "cell_type": "code",
   "execution_count": 65,
   "metadata": {},
   "outputs": [
    {
     "name": "stdout",
     "output_type": "stream",
     "text": [
      " 30.474274 seconds (154.44 M allocations: 4.175 GiB, 3.94% gc time, 0.50% compilation time)\n"
     ]
    }
   ],
   "source": [
    "@time ising_get_measurements_to_txt(24, 2.2, 1000, 1000, 10,\n",
    "    ntau=2,\n",
    "    start=:cold,\n",
    "    store_at=\"D:\\\\Projects\\\\Dr. Heyl Group\\\\montecarlo-spin-configurations-and-distances-study\\\\data\",\n",
    "    verbose=false,\n",
    "    mode=\"w\",\n",
    "    get_mags=true,\n",
    "    get_structure_factors=true)"
   ]
  },
  {
   "cell_type": "code",
   "execution_count": 27,
   "metadata": {},
   "outputs": [
    {
     "name": "stdout",
     "output_type": "stream",
     "text": [
      "(4096, 1000)\n"
     ]
    }
   ],
   "source": [
    "let\n",
    "    data_path = \"D:\\\\Projects\\\\Dr. Heyl Group\\\\montecarlo-spin-configurations-and-distances-study\\\\data\"\n",
    "    data = readdlm(joinpath([data_path, \"Ising\", \"Size64\", \"uncorr_configs\", \"ising_uncorr_configs_temp2.2_L64.txt\"]), ',', Int)\n",
    "    println(size(data))\n",
    "end"
   ]
  },
  {
   "cell_type": "code",
   "execution_count": 63,
   "metadata": {},
   "outputs": [
    {
     "name": "stdout",
     "output_type": "stream",
     "text": [
      "0.006658106674382716\n",
      "0.006658106674382716\n",
      "  0.000000 seconds\n",
      "  0.003481 seconds\n"
     ]
    },
    {
     "data": {
      "text/plain": [
       "0.006658106674382716"
      ]
     },
     "metadata": {},
     "output_type": "display_data"
    }
   ],
   "source": [
    "let \n",
    "    mm = ClassicalIsingModel2D(48, :hot)\n",
    "    for i=1:100\n",
    "        wolff_update!(mm, 2.4)\n",
    "    end\n",
    "    @assert structure_factor(mm) == structure_factor(mm.lattice, 48)\n",
    "    println(structure_factor(mm))\n",
    "    println(structure_factor(mm.lattice, 48))\n",
    "    @time structure_factor(mm)\n",
    "    @time structure_factor(mm.lattice, 48)\n",
    "end"
   ]
  }
 ],
 "metadata": {
  "kernelspec": {
   "display_name": "Julia 1.7.3",
   "language": "julia",
   "name": "julia-1.7"
  },
  "language_info": {
   "file_extension": ".jl",
   "mimetype": "application/julia",
   "name": "julia",
   "version": "1.7.3"
  },
  "orig_nbformat": 4
 },
 "nbformat": 4,
 "nbformat_minor": 2
}
